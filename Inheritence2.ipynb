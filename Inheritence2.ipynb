{
  "nbformat": 4,
  "nbformat_minor": 0,
  "metadata": {
    "colab": {
      "name": "Inheritence2.ipynb",
      "provenance": [],
      "collapsed_sections": [],
      "include_colab_link": true
    },
    "kernelspec": {
      "name": "python3",
      "display_name": "Python 3"
    },
    "language_info": {
      "name": "python"
    }
  },
  "cells": [
    {
      "cell_type": "markdown",
      "metadata": {
        "id": "view-in-github",
        "colab_type": "text"
      },
      "source": [
        "<a href=\"https://colab.research.google.com/github/sunilchaurha/python-learning/blob/main/Inheritence2.ipynb\" target=\"_parent\"><img src=\"https://colab.research.google.com/assets/colab-badge.svg\" alt=\"Open In Colab\"/></a>"
      ]
    },
    {
      "cell_type": "code",
      "metadata": {
        "id": "_SYNUhXRFJEU"
      },
      "source": [
        "class Employee:\n",
        "  def __init__(self, id, name):\n",
        "    self.id=id\n",
        "    self.name=name"
      ],
      "execution_count": 1,
      "outputs": []
    },
    {
      "cell_type": "code",
      "metadata": {
        "id": "x_0C4A6HC3Hu"
      },
      "source": [
        "class PayrollSystem:\n",
        "  def calculate_payroll(self,employees):\n",
        "    print(\"Calculating Payroll\")\n",
        "    for employee in employees:\n",
        "      print(f'Payroll for:{employee.id} - {employee.name}')\n",
        "      print(f'- Check amount:{employee.calculate_payroll()}')\n",
        "      print(\"\")\n"
      ],
      "execution_count": 2,
      "outputs": []
    },
    {
      "cell_type": "code",
      "metadata": {
        "id": "6YOhB6feGEqg"
      },
      "source": [
        "class SalaryEmployee(Employee):\n",
        "  def __init__(self,id,name,weekly_salary):\n",
        "    super().__init__(id,name)\n",
        "    self.weekly_salary = weekly_salary\n",
        "\n",
        "  def calculate_payroll(self):\n",
        "    return self.weekly_salary"
      ],
      "execution_count": 3,
      "outputs": []
    },
    {
      "cell_type": "code",
      "metadata": {
        "id": "Bm2dpCO6HyXs"
      },
      "source": [
        "class HourlyEmployee(Employee):\n",
        "  def __init__(self,id,name,hours_worked,hour_rate):\n",
        "    super().__init__(id,name)\n",
        "    self.hours_worked = hours_worked\n",
        "    self.hour_rate = hour_rate\n",
        "  \n",
        "  def calculate_payroll(self):\n",
        "      return self.hours_worked*self.hour_rate"
      ],
      "execution_count": 4,
      "outputs": []
    },
    {
      "cell_type": "code",
      "metadata": {
        "id": "B2J6jG7QIjND"
      },
      "source": [
        "class CommissionEmployee(SalaryEmployee):\n",
        "  def __init__(self, id,name,weekly_salary,commission):\n",
        "    super().__init__(id,name,weekly_salary)\n",
        "    self.commission=commission\n",
        "\n",
        "  def calculate_payroll(self):\n",
        "    fixed = super().calculate_payroll()\n",
        "    return fixed + self.commission"
      ],
      "execution_count": 5,
      "outputs": []
    },
    {
      "cell_type": "code",
      "metadata": {
        "colab": {
          "base_uri": "https://localhost:8080/"
        },
        "id": "bP4Yi-yfJr7w",
        "outputId": "00f79fa0-4dff-4e79-a71d-fc1b9c546544"
      },
      "source": [
        "salary_employee = SalaryEmployee(1,\"John\",1500)\n",
        "hourly_employee = HourlyEmployee(2,\"Jane\",40,15)\n",
        "commission_employee = CommissionEmployee(3,\"Ray\",1000,250)\n",
        "\n",
        "payroll_system = PayrollSystem()\n",
        "payroll_system.calculate_payroll([\n",
        "                                  salary_employee,\n",
        "                                  hourly_employee,\n",
        "                                  commission_employee\n",
        "])"
      ],
      "execution_count": 6,
      "outputs": [
        {
          "output_type": "stream",
          "text": [
            "Calculating Payroll\n",
            "Payroll for:1 - John\n",
            "- Check amount:1500\n",
            "\n",
            "Payroll for:2 - Jane\n",
            "- Check amount:600\n",
            "\n",
            "Payroll for:3 - Ray\n",
            "- Check amount:1250\n",
            "\n"
          ],
          "name": "stdout"
        }
      ]
    },
    {
      "cell_type": "code",
      "metadata": {
        "id": "x5D9ULmLO1f-"
      },
      "source": [
        "class Manager(SalaryEmployee):\n",
        "  def work(self,hours):\n",
        "    print(f'{self.name} always screams for atleast {hours} hours everyday')\n",
        "\n",
        "class Secretary(SalaryEmployee):\n",
        "  def work(self,hours):\n",
        "    print(f'{self.name} spends time chilling at others desk for {hours} hours everyday')\n",
        "\n",
        "class SalesPerson(CommissionEmployee):\n",
        "  def work(self,hours):\n",
        "    print(f'{self.name} spends {hours} hours on phone everyday')\n",
        "\n",
        "class FactoryWorker(HourlyEmployee):\n",
        "  def work(self,hours):\n",
        "    print(f'{self.name} works hard, breaking rocks for {hours} hours everyday')"
      ],
      "execution_count": 7,
      "outputs": []
    },
    {
      "cell_type": "code",
      "metadata": {
        "id": "JqEALypRfmzE"
      },
      "source": [
        "class ProductivitySystem:\n",
        "  def track(self,employees,hours):\n",
        "    print(\"Tracking Employees Productivity:\")\n",
        "    for employee in employees:\n",
        "      employee.work(hours)\n",
        "    print('')\n"
      ],
      "execution_count": 8,
      "outputs": []
    },
    {
      "cell_type": "code",
      "metadata": {
        "colab": {
          "base_uri": "https://localhost:8080/"
        },
        "id": "_q1BUEOkg7te",
        "outputId": "7e97a258-ff69-472c-a283-04d666311145"
      },
      "source": [
        "manager = Manager(1,\"Puja\",3000)\n",
        "secretary = Secretary(2,\"Vijay\",1500)\n",
        "sales_guy = SalesPerson(3,\"Roy\",1000,250)\n",
        "factory_worker = FactoryWorker(4,\"Teams\",40,15)\n",
        "employees = [\n",
        "             manager,\n",
        "             secretary,\n",
        "             sales_guy,\n",
        "             factory_worker\n",
        "]\n",
        "productivity_system = ProductivitySystem()\n",
        "productivity_system.track(employees,40)\n"
      ],
      "execution_count": 9,
      "outputs": [
        {
          "output_type": "stream",
          "text": [
            "Tracking Employees Productivity:\n",
            "Puja always screams for atleast 40 hours everyday\n",
            "Vijay spends time chilling at others desk for 40 hours everyday\n",
            "Roy spends 40 hours on phone everyday\n",
            "Teams works hard, breaking rocks for 40 hours everyday\n",
            "\n"
          ],
          "name": "stdout"
        }
      ]
    },
    {
      "cell_type": "code",
      "metadata": {
        "colab": {
          "base_uri": "https://localhost:8080/"
        },
        "id": "rZoMe0nDhpdh",
        "outputId": "e8882488-7e04-4595-8764-ab2a87321f0c"
      },
      "source": [
        "payroll_system = PayrollSystem()\n",
        "payroll_system.calculate_payroll(employees)"
      ],
      "execution_count": 10,
      "outputs": [
        {
          "output_type": "stream",
          "text": [
            "Calculating Payroll\n",
            "Payroll for:1 - Puja\n",
            "- Check amount:3000\n",
            "\n",
            "Payroll for:2 - Vijay\n",
            "- Check amount:1500\n",
            "\n",
            "Payroll for:3 - Roy\n",
            "- Check amount:1250\n",
            "\n",
            "Payroll for:4 - Teams\n",
            "- Check amount:600\n",
            "\n"
          ],
          "name": "stdout"
        }
      ]
    },
    {
      "cell_type": "code",
      "metadata": {
        "id": "-uwhQ9NcjjtQ"
      },
      "source": [
        "class TemporarySecretary(HourlyEmployee,Secretary):\n",
        "  pass"
      ],
      "execution_count": 14,
      "outputs": []
    },
    {
      "cell_type": "code",
      "metadata": {
        "colab": {
          "base_uri": "https://localhost:8080/",
          "height": 316
        },
        "id": "OFYVRQYlOOL9",
        "outputId": "53f7f30a-ef5c-4254-ffe1-b50a1cc8cce0"
      },
      "source": [
        "manager = Manager(1, \"Mary\", 3000)\n",
        "secretary = Secretary(2,\"John\",1500)\n",
        "sales_guy = SalesPerson(3,\"Ray\",1000,250)\n",
        "factory_worker = FactoryWorker(4,\"Token\",40,15)\n",
        "temporary_secretary = TemporarySecretary(5,\"Tempo\",40,9)\n"
      ],
      "execution_count": 15,
      "outputs": [
        {
          "output_type": "error",
          "ename": "TypeError",
          "evalue": "ignored",
          "traceback": [
            "\u001b[0;31m---------------------------------------------------------------------------\u001b[0m",
            "\u001b[0;31mTypeError\u001b[0m                                 Traceback (most recent call last)",
            "\u001b[0;32m<ipython-input-15-1859666f26df>\u001b[0m in \u001b[0;36m<module>\u001b[0;34m()\u001b[0m\n\u001b[1;32m      3\u001b[0m \u001b[0msales_guy\u001b[0m \u001b[0;34m=\u001b[0m \u001b[0mSalesPerson\u001b[0m\u001b[0;34m(\u001b[0m\u001b[0;36m3\u001b[0m\u001b[0;34m,\u001b[0m\u001b[0;34m\"Ray\"\u001b[0m\u001b[0;34m,\u001b[0m\u001b[0;36m1000\u001b[0m\u001b[0;34m,\u001b[0m\u001b[0;36m250\u001b[0m\u001b[0;34m)\u001b[0m\u001b[0;34m\u001b[0m\u001b[0;34m\u001b[0m\u001b[0m\n\u001b[1;32m      4\u001b[0m \u001b[0mfactory_worker\u001b[0m \u001b[0;34m=\u001b[0m \u001b[0mFactoryWorker\u001b[0m\u001b[0;34m(\u001b[0m\u001b[0;36m4\u001b[0m\u001b[0;34m,\u001b[0m\u001b[0;34m\"Token\"\u001b[0m\u001b[0;34m,\u001b[0m\u001b[0;36m40\u001b[0m\u001b[0;34m,\u001b[0m\u001b[0;36m15\u001b[0m\u001b[0;34m)\u001b[0m\u001b[0;34m\u001b[0m\u001b[0;34m\u001b[0m\u001b[0m\n\u001b[0;32m----> 5\u001b[0;31m \u001b[0mtemporary_secretary\u001b[0m \u001b[0;34m=\u001b[0m \u001b[0mTemporarySecretary\u001b[0m\u001b[0;34m(\u001b[0m\u001b[0;36m5\u001b[0m\u001b[0;34m,\u001b[0m\u001b[0;34m\"Tempo\"\u001b[0m\u001b[0;34m,\u001b[0m\u001b[0;36m40\u001b[0m\u001b[0;34m,\u001b[0m\u001b[0;36m9\u001b[0m\u001b[0;34m)\u001b[0m\u001b[0;34m\u001b[0m\u001b[0;34m\u001b[0m\u001b[0m\n\u001b[0m",
            "\u001b[0;32m<ipython-input-4-031db02f58ee>\u001b[0m in \u001b[0;36m__init__\u001b[0;34m(self, id, name, hours_worked, hour_rate)\u001b[0m\n\u001b[1;32m      1\u001b[0m \u001b[0;32mclass\u001b[0m \u001b[0mHourlyEmployee\u001b[0m\u001b[0;34m(\u001b[0m\u001b[0mEmployee\u001b[0m\u001b[0;34m)\u001b[0m\u001b[0;34m:\u001b[0m\u001b[0;34m\u001b[0m\u001b[0;34m\u001b[0m\u001b[0m\n\u001b[1;32m      2\u001b[0m   \u001b[0;32mdef\u001b[0m \u001b[0m__init__\u001b[0m\u001b[0;34m(\u001b[0m\u001b[0mself\u001b[0m\u001b[0;34m,\u001b[0m\u001b[0mid\u001b[0m\u001b[0;34m,\u001b[0m\u001b[0mname\u001b[0m\u001b[0;34m,\u001b[0m\u001b[0mhours_worked\u001b[0m\u001b[0;34m,\u001b[0m\u001b[0mhour_rate\u001b[0m\u001b[0;34m)\u001b[0m\u001b[0;34m:\u001b[0m\u001b[0;34m\u001b[0m\u001b[0;34m\u001b[0m\u001b[0m\n\u001b[0;32m----> 3\u001b[0;31m     \u001b[0msuper\u001b[0m\u001b[0;34m(\u001b[0m\u001b[0;34m)\u001b[0m\u001b[0;34m.\u001b[0m\u001b[0m__init__\u001b[0m\u001b[0;34m(\u001b[0m\u001b[0mid\u001b[0m\u001b[0;34m,\u001b[0m\u001b[0mname\u001b[0m\u001b[0;34m)\u001b[0m\u001b[0;34m\u001b[0m\u001b[0;34m\u001b[0m\u001b[0m\n\u001b[0m\u001b[1;32m      4\u001b[0m     \u001b[0mself\u001b[0m\u001b[0;34m.\u001b[0m\u001b[0mhours_worked\u001b[0m \u001b[0;34m=\u001b[0m \u001b[0mhours_worked\u001b[0m\u001b[0;34m\u001b[0m\u001b[0;34m\u001b[0m\u001b[0m\n\u001b[1;32m      5\u001b[0m     \u001b[0mself\u001b[0m\u001b[0;34m.\u001b[0m\u001b[0mhour_rate\u001b[0m \u001b[0;34m=\u001b[0m \u001b[0mhour_rate\u001b[0m\u001b[0;34m\u001b[0m\u001b[0;34m\u001b[0m\u001b[0m\n",
            "\u001b[0;31mTypeError\u001b[0m: __init__() missing 1 required positional argument: 'weekly_salary'"
          ]
        }
      ]
    },
    {
      "cell_type": "code",
      "metadata": {
        "id": "vdUz6GibPY49"
      },
      "source": [
        "class TemporarySecretary(Secretary,HourlyEmployee):\n",
        "  def __init__(self,id,name,hours_worked,hour_rate):\n",
        "    HourlyEmployee.__init__(self,id,name,hours_worked,hour_rate)\n",
        "\n",
        "\n",
        "manager = Manager(1, \"Mary\", 3000)\n",
        "secretary = Secretary(2,\"John\",1500)\n",
        "sales_guy = SalesPerson(3,\"Ray\",1000,250)\n",
        "factory_worker = FactoryWorker(4,\"Token\",40,15)\n",
        "temporary_secretary = TemporarySecretary(5,\"Tempo\",40,9)"
      ],
      "execution_count": 16,
      "outputs": []
    },
    {
      "cell_type": "code",
      "metadata": {
        "colab": {
          "base_uri": "https://localhost:8080/"
        },
        "id": "A6c5x7OnO0ik",
        "outputId": "55272dbc-7bcc-4ad3-d9d0-c5c6769adeb3"
      },
      "source": [
        "company_employees=[\n",
        "                   manager,\n",
        "                   secretary,\n",
        "                   sales_guy,\n",
        "                   factory_worker\n",
        "]\n",
        "\n",
        "productivity_system = ProductivitySystem()\n",
        "productivity_system.track(company_employees, 40)"
      ],
      "execution_count": 17,
      "outputs": [
        {
          "output_type": "stream",
          "text": [
            "Tracking Employees Productivity:\n",
            "Mary always screams for atleast 40 hours everyday\n",
            "John spends time chilling at others desk for 40 hours everyday\n",
            "Ray spends 40 hours on phone everyday\n",
            "Token works hard, breaking rocks for 40 hours everyday\n",
            "\n"
          ],
          "name": "stdout"
        }
      ]
    },
    {
      "cell_type": "code",
      "metadata": {
        "colab": {
          "base_uri": "https://localhost:8080/"
        },
        "id": "yqgpdLxiQbst",
        "outputId": "dbed36b0-7b60-4e6c-eea7-cf8648451516"
      },
      "source": [
        "payroll_system = PayrollSystem()\n",
        "payroll_system.calculate_payroll(company_employees)"
      ],
      "execution_count": 18,
      "outputs": [
        {
          "output_type": "stream",
          "text": [
            "Calculating Payroll\n",
            "Payroll for:1 - Mary\n",
            "- Check amount:3000\n",
            "\n",
            "Payroll for:2 - John\n",
            "- Check amount:1500\n",
            "\n",
            "Payroll for:3 - Ray\n",
            "- Check amount:1250\n",
            "\n",
            "Payroll for:4 - Token\n",
            "- Check amount:600\n",
            "\n"
          ],
          "name": "stdout"
        }
      ]
    },
    {
      "cell_type": "code",
      "metadata": {
        "colab": {
          "base_uri": "https://localhost:8080/",
          "height": 663
        },
        "id": "gPdNQ8M4QqBv",
        "outputId": "4c0c4951-beca-4572-e993-488642dae982"
      },
      "source": [
        "class TemporarySecretary(Secretary,HourlyEmployee):\n",
        "  def __init__(self,id,name,hours_worked,hour_rate):\n",
        "    HourlyEmployee.__init__(self,id,name,hours_worked,hour_rate)\n",
        "\n",
        "\n",
        "manager = Manager(1, \"Mary\", 3000)\n",
        "secretary = Secretary(2,\"John\",1500)\n",
        "sales_guy = SalesPerson(3,\"Ray\",1000,250)\n",
        "factory_worker = FactoryWorker(4,\"Token\",40,15)\n",
        "temporary_secretary = TemporarySecretary(5,\"Tempo\",40,20)\n",
        "\n",
        "company_employees=[\n",
        "                   manager,\n",
        "                   secretary,\n",
        "                   sales_guy,\n",
        "                   factory_worker,\n",
        "                   temporary_secretary\n",
        "]\n",
        "\n",
        "productivity_system = ProductivitySystem()\n",
        "productivity_system.track(company_employees, 40)\n",
        "\n",
        "payroll_system = PayrollSystem()\n",
        "payroll_system.calculate_payroll(company_employees)"
      ],
      "execution_count": 19,
      "outputs": [
        {
          "output_type": "stream",
          "text": [
            "Tracking Employees Productivity:\n",
            "Mary always screams for atleast 40 hours everyday\n",
            "John spends time chilling at others desk for 40 hours everyday\n",
            "Ray spends 40 hours on phone everyday\n",
            "Token works hard, breaking rocks for 40 hours everyday\n",
            "Tempo spends time chilling at others desk for 40 hours everyday\n",
            "\n",
            "Calculating Payroll\n",
            "Payroll for:1 - Mary\n",
            "- Check amount:3000\n",
            "\n",
            "Payroll for:2 - John\n",
            "- Check amount:1500\n",
            "\n",
            "Payroll for:3 - Ray\n",
            "- Check amount:1250\n",
            "\n",
            "Payroll for:4 - Token\n",
            "- Check amount:600\n",
            "\n",
            "Payroll for:5 - Tempo\n"
          ],
          "name": "stdout"
        },
        {
          "output_type": "error",
          "ename": "AttributeError",
          "evalue": "ignored",
          "traceback": [
            "\u001b[0;31m---------------------------------------------------------------------------\u001b[0m",
            "\u001b[0;31mAttributeError\u001b[0m                            Traceback (most recent call last)",
            "\u001b[0;32m<ipython-input-19-d8e575e5b354>\u001b[0m in \u001b[0;36m<module>\u001b[0;34m()\u001b[0m\n\u001b[1;32m     22\u001b[0m \u001b[0;34m\u001b[0m\u001b[0m\n\u001b[1;32m     23\u001b[0m \u001b[0mpayroll_system\u001b[0m \u001b[0;34m=\u001b[0m \u001b[0mPayrollSystem\u001b[0m\u001b[0;34m(\u001b[0m\u001b[0;34m)\u001b[0m\u001b[0;34m\u001b[0m\u001b[0;34m\u001b[0m\u001b[0m\n\u001b[0;32m---> 24\u001b[0;31m \u001b[0mpayroll_system\u001b[0m\u001b[0;34m.\u001b[0m\u001b[0mcalculate_payroll\u001b[0m\u001b[0;34m(\u001b[0m\u001b[0mcompany_employees\u001b[0m\u001b[0;34m)\u001b[0m\u001b[0;34m\u001b[0m\u001b[0;34m\u001b[0m\u001b[0m\n\u001b[0m",
            "\u001b[0;32m<ipython-input-2-75bfbe1345f0>\u001b[0m in \u001b[0;36mcalculate_payroll\u001b[0;34m(self, employees)\u001b[0m\n\u001b[1;32m      4\u001b[0m     \u001b[0;32mfor\u001b[0m \u001b[0memployee\u001b[0m \u001b[0;32min\u001b[0m \u001b[0memployees\u001b[0m\u001b[0;34m:\u001b[0m\u001b[0;34m\u001b[0m\u001b[0;34m\u001b[0m\u001b[0m\n\u001b[1;32m      5\u001b[0m       \u001b[0mprint\u001b[0m\u001b[0;34m(\u001b[0m\u001b[0;34mf'Payroll for:{employee.id} - {employee.name}'\u001b[0m\u001b[0;34m)\u001b[0m\u001b[0;34m\u001b[0m\u001b[0;34m\u001b[0m\u001b[0m\n\u001b[0;32m----> 6\u001b[0;31m       \u001b[0mprint\u001b[0m\u001b[0;34m(\u001b[0m\u001b[0;34mf'- Check amount:{employee.calculate_payroll()}'\u001b[0m\u001b[0;34m)\u001b[0m\u001b[0;34m\u001b[0m\u001b[0;34m\u001b[0m\u001b[0m\n\u001b[0m\u001b[1;32m      7\u001b[0m       \u001b[0mprint\u001b[0m\u001b[0;34m(\u001b[0m\u001b[0;34m\"\"\u001b[0m\u001b[0;34m)\u001b[0m\u001b[0;34m\u001b[0m\u001b[0;34m\u001b[0m\u001b[0m\n",
            "\u001b[0;32m<ipython-input-3-405a461cd88e>\u001b[0m in \u001b[0;36mcalculate_payroll\u001b[0;34m(self)\u001b[0m\n\u001b[1;32m      5\u001b[0m \u001b[0;34m\u001b[0m\u001b[0m\n\u001b[1;32m      6\u001b[0m   \u001b[0;32mdef\u001b[0m \u001b[0mcalculate_payroll\u001b[0m\u001b[0;34m(\u001b[0m\u001b[0mself\u001b[0m\u001b[0;34m)\u001b[0m\u001b[0;34m:\u001b[0m\u001b[0;34m\u001b[0m\u001b[0;34m\u001b[0m\u001b[0m\n\u001b[0;32m----> 7\u001b[0;31m     \u001b[0;32mreturn\u001b[0m \u001b[0mself\u001b[0m\u001b[0;34m.\u001b[0m\u001b[0mweekly_salary\u001b[0m\u001b[0;34m\u001b[0m\u001b[0;34m\u001b[0m\u001b[0m\n\u001b[0m",
            "\u001b[0;31mAttributeError\u001b[0m: 'TemporarySecretary' object has no attribute 'weekly_salary'"
          ]
        }
      ]
    },
    {
      "cell_type": "markdown",
      "metadata": {
        "id": "ZHFG67zhUFJv"
      },
      "source": [
        "Reason: TempSec use Multiple Classes to inherit and then also inherit from the Base class:Employee, This causes two paths to reach Employee so a wrong one might be called. We will will separate modules for Productivity and Separate for Payroll Management"
      ]
    },
    {
      "cell_type": "code",
      "metadata": {
        "id": "8PtkLRzKR_9y"
      },
      "source": [
        "class ProductivitySystem:\n",
        "  def track(self,employees,hours):\n",
        "    print(\"Tracking Employees Productivity:\")\n",
        "    for employee in employees:\n",
        "      result = employee.work(hours)\n",
        "      print(f'{employee.name} : {result}')\n",
        "    print('')\n",
        "\n",
        "\n",
        "class ManagerRole:\n",
        "  def work(self,hours):\n",
        "    print(f'He always screams for atleast {hours} hours everyday')\n",
        "\n",
        "class SecretaryRole:\n",
        "  def work(self,hours):\n",
        "    print(f'He always spends time chilling at others desk for {hours} hours everyday')\n",
        "\n",
        "class SalesRole:\n",
        "  def work(self,hours):\n",
        "    print(f'He always spends {hours} hours on phone everyday')\n",
        "\n",
        "class FactoryRole:\n",
        "  def work(self,hours):\n",
        "    print(f'He always works hard, breaking rocks for {hours} hours everyday')\n",
        "\n",
        "\n"
      ],
      "execution_count": 20,
      "outputs": []
    },
    {
      "cell_type": "code",
      "metadata": {
        "id": "9zAvdKNjVdzI"
      },
      "source": [
        "class PayrollSystem:\n",
        "  def calculate_payroll(self,employees):\n",
        "    print(\"Calculating Payroll\")\n",
        "    for employee in employees:\n",
        "      print(f'Payroll for:{employee.id} - {employee.name}')\n",
        "      print(f'- Check amount:{employee.calculate_payroll()}')\n",
        "      print(\"\")\n",
        "\n",
        "class SalaryPolicy:\n",
        "  def __init__(self, weekly_salary):\n",
        "    self.weekly_salary = weekly_salary\n",
        "\n",
        "  def calculate_payroll(self):\n",
        "    return self.weekly_salary\n",
        "\n",
        "\n",
        "class HourlyPolicy:\n",
        "  def __init__(self, hours_worked, hour_rate):\n",
        "    self.hours_worked = hours_worked\n",
        "    self.hour_rate = hour_rate\n",
        "\n",
        "  def calculate_payroll(self):\n",
        "    return self.hours_worked*hourly_employee\n",
        "\n",
        "\n",
        "class CommissionPolicy(SalaryPolicy):\n",
        "  def __init__(self, weekly_salary,commission):\n",
        "    super().__init__(weekly_salary)\n",
        "    self.commission = commission\n",
        "\n",
        "  def calculate_payroll(self):\n",
        "    fixed = super().calculate_payroll()\n",
        "    return fixed+ self.commission"
      ],
      "execution_count": 21,
      "outputs": []
    },
    {
      "cell_type": "code",
      "metadata": {
        "id": "DC9TRNMoXGJn"
      },
      "source": [
        "class Employee:\n",
        "  def __init__(self, id, name):\n",
        "    self.id=id\n",
        "    self.name=name\n",
        "\n",
        "class Manager(Employee, ManagerRole,SalaryPolicy):\n",
        "  def __init__(self,id,name,weekly_salary):\n",
        "    SalaryPolicy.__init__(self,weekly_salary)\n",
        "    super().__init__(id,name)\n",
        "\n",
        "class Secretary(Employee, SecretaryRole,SalaryPolicy):\n",
        "  def __init__(self,id,name,weekly_salary):\n",
        "    SalaryPolicy.__init__(self,weekly_salary)\n",
        "    super().__init__(id,name)\n",
        "\n",
        "class SalesPerson(Employee, SalesRole,CommissionPolicy):\n",
        "  def __init__(self,id,name,weekly_salary,commission):\n",
        "    CommissionPolicy.__init__(self,weekly_salary,commission)\n",
        "    super().__init__(id,name)\n",
        "\n",
        "class FactoryWorker(Employee, FactoryRole,HourlyPolicy):\n",
        "  def __init__(self,id,name,hours_worked, hour_rate):\n",
        "    HourlyPolicy.__init__(self,hours_worked,hour_rate)\n",
        "    super().__init__(id,name)\n",
        "\n",
        "class TemporarySecretary(Employee, SecretaryRole,HourlyPolicy):\n",
        "  def __init__(self,id,name,hours_worked, hour_rate):\n",
        "    HourlyPolicy.__init__(self,hours_worked,hour_rate)\n",
        "    super().__init__(id,name)"
      ],
      "execution_count": 22,
      "outputs": []
    },
    {
      "cell_type": "code",
      "metadata": {
        "id": "GxZRJoBxY8wl"
      },
      "source": [
        "class Address:\n",
        "  def __init__(self, street, street2, city,state,zipcode):\n",
        "    self.street = street\n",
        "    self.street2 = street2\n",
        "    self.city = city\n",
        "    self.zipcode = zipcode\n",
        "    self.state = state\n",
        "\n",
        "  def __str__(self):\n",
        "    lines = [self.street]\n",
        "    if self.street2:\n",
        "      lines.append(self.street2)\n",
        "    lines.append(f'{self.city},{self.state},{self.zipcode}')\n",
        "    return '\\n'.join(lines)"
      ],
      "execution_count": 23,
      "outputs": []
    },
    {
      "cell_type": "code",
      "metadata": {
        "colab": {
          "base_uri": "https://localhost:8080/"
        },
        "id": "2Gj5h99hdy9B",
        "outputId": "d27502a9-3069-4c8a-b10d-39dff6588914"
      },
      "source": [
        "address = Address(\"55th Main\",\"Vijay colony\",\"Bangalore\",\"BL\",\"560001\")\n",
        "print(address)"
      ],
      "execution_count": 24,
      "outputs": [
        {
          "output_type": "stream",
          "text": [
            "55th Main\n",
            "Vijay colony\n",
            "Bangalore,BL,560001\n"
          ],
          "name": "stdout"
        }
      ]
    },
    {
      "cell_type": "code",
      "metadata": {
        "id": "CHE1k2M5eIbp"
      },
      "source": [
        "class Employee:\n",
        "  def __init__(self, id, name):\n",
        "    self.id=id\n",
        "    self.name=name\n",
        "    self.address= None\n",
        "\n"
      ],
      "execution_count": 25,
      "outputs": []
    },
    {
      "cell_type": "code",
      "metadata": {
        "id": "cgB7trHqezXn"
      },
      "source": [
        "class PayrollSystem:\n",
        "  def calculate_payroll(self,employees):\n",
        "    print(\"Calculating Payroll\")\n",
        "    for employee in employees:\n",
        "      print(f'Payroll for:{employee.id} - {employee.name}')\n",
        "      print(f'- Check amount:{employee.calculate_payroll()}')\n",
        "      if employee.address:\n",
        "        print(\"Address:\")\n",
        "        print(employee.address)\n",
        "      print(\"\")"
      ],
      "execution_count": 26,
      "outputs": []
    },
    {
      "cell_type": "code",
      "metadata": {
        "colab": {
          "base_uri": "https://localhost:8080/"
        },
        "id": "77T0Wqpdg5Fc",
        "outputId": "01b66fd0-cbef-451e-fb27-12f9abb9d5d0"
      },
      "source": [
        "class ManagerRole:\n",
        "  def work(self,hours):\n",
        "    print(f'He always screams for atleast {hours} hours everyday')\n",
        "\n",
        "class SalaryPolicy:\n",
        "  def __init__(self, weekly_salary):\n",
        "    self.weekly_salary = weekly_salary\n",
        "\n",
        "  def calculate_payroll(self):\n",
        "    return self.weekly_salary\n",
        "\n",
        "class SecretaryRole:\n",
        "  def work(self,hours):\n",
        "    print(f'He always works for atleast {hours} hours everyday')\n",
        "\n",
        "class Secretary(Employee, SecretaryRole,SalaryPolicy):\n",
        "  def __init__(self,id,name,weekly_salary):\n",
        "    SalaryPolicy.__init__(self,weekly_salary)\n",
        "    super().__init__(id,name)\n",
        "\n",
        "class Manager(Employee, ManagerRole,SalaryPolicy):\n",
        "  def __init__(self,id,name,weekly_salary):\n",
        "    SalaryPolicy.__init__(self,weekly_salary)\n",
        "    super().__init__(id,name)\n",
        "\n",
        "\n",
        "\n",
        "manager = Manager(1, \"Mary\", 3000)\n",
        "manager.address = Address(\"5th Main\",\"Prestige Apartment\",\"Bangalore\",\"BL\",\"560031\")\n",
        "secretary = Secretary(2, \"John\", 1500)\n",
        "secretary.address = Address(\"23rd Main\",\"Prestige Apartment\",\"Bangalore\",\"BL\",\"560231\")\n",
        "\n",
        "class SalesRole:\n",
        "  def work(self,hours):\n",
        "    print(f'He always spends {hours} hours on phone everyday')\n",
        "\n",
        "\n",
        "class CommissionPolicy(SalaryPolicy):\n",
        "  def __init__(self, weekly_salary,commission):\n",
        "    super().__init__(weekly_salary)\n",
        "    self.commission = commission\n",
        "\n",
        "  def calculate_payroll(self):\n",
        "    fixed = super().calculate_payroll()\n",
        "    return fixed+ self.commission\n",
        "\n",
        "\n",
        "class SalesPerson(Employee, SalesRole,CommissionPolicy):\n",
        "  def __init__(self,id,name,weekly_salary,commission):\n",
        "    CommissionPolicy.__init__(self,weekly_salary,commission)\n",
        "    super().__init__(id,name)\n",
        "    \n",
        "class FactoryRole:\n",
        "  def work(self,hours):\n",
        "    print(f'He always works hard, breaking rocks for {hours} hours everyday')\n",
        "\n",
        "\n",
        "class HourlyPolicy:\n",
        "  def __init__(self, hours_worked, hour_rate):\n",
        "    self.hours_worked = hours_worked\n",
        "    self.hour_rate = hour_rate\n",
        "\n",
        "  def calculate_payroll(self):\n",
        "    return self.hours_worked*self.hour_rate\n",
        "\n",
        "\n",
        "class FactoryWorker(Employee, FactoryRole,HourlyPolicy):\n",
        "  def __init__(self,id,name,hours_worked, hour_rate):\n",
        "    HourlyPolicy.__init__(self,hours_worked,hour_rate)\n",
        "    super().__init__(id,name)\n",
        "\n",
        "class TemporarySecretary(Employee, SecretaryRole,HourlyPolicy):\n",
        "  def __init__(self,id,name,hours_worked, hour_rate):\n",
        "    HourlyPolicy.__init__(self,hours_worked,hour_rate)\n",
        "    super().__init__(id,name)\n",
        "\n",
        "sales_guy = SalesPerson(3,\"Jiren\",1000,250)\n",
        "factory_worker = FactoryWorker(4,\"Jiren\",40,15)\n",
        "temporary_secretary = TemporarySecretary(5,\"Pokemon\",40,10)\n",
        "employees = [\n",
        "             manager,\n",
        "             secretary,\n",
        "             sales_guy,\n",
        "             factory_worker,\n",
        "             temporary_secretary\n",
        "]\n",
        "\n",
        "class ProductivitySystem:\n",
        "  def track(self,employees,hours):\n",
        "    print(\"Tracking Employees Productivity:\")\n",
        "    for employee in employees:\n",
        "      result = employee.work(hours)\n",
        "      print(f'{employee.name} : {result}')\n",
        "    print('')\n",
        "\n",
        "productivity_system = ProductivitySystem()\n",
        "productivity_system.track(employees, 40)\n",
        "\n",
        "payroll_system = PayrollSystem()\n",
        "payroll_system.calculate_payroll(employees)"
      ],
      "execution_count": 30,
      "outputs": [
        {
          "output_type": "stream",
          "text": [
            "Tracking Employees Productivity:\n",
            "He always screams for atleast 40 hours everyday\n",
            "Mary : None\n",
            "He always works for atleast 40 hours everyday\n",
            "John : None\n",
            "He always spends 40 hours on phone everyday\n",
            "Jiren : None\n",
            "He always works hard, breaking rocks for 40 hours everyday\n",
            "Jiren : None\n",
            "He always works for atleast 40 hours everyday\n",
            "Pokemon : None\n",
            "\n",
            "Calculating Payroll\n",
            "Payroll for:1 - Mary\n",
            "- Check amount:3000\n",
            "Address:\n",
            "5th Main\n",
            "Prestige Apartment\n",
            "Bangalore,BL,560031\n",
            "\n",
            "Payroll for:2 - John\n",
            "- Check amount:1500\n",
            "Address:\n",
            "23rd Main\n",
            "Prestige Apartment\n",
            "Bangalore,BL,560231\n",
            "\n",
            "Payroll for:3 - Jiren\n",
            "- Check amount:1250\n",
            "\n",
            "Payroll for:4 - Jiren\n",
            "- Check amount:600\n",
            "\n",
            "Payroll for:5 - Pokemon\n",
            "- Check amount:400\n",
            "\n"
          ],
          "name": "stdout"
        }
      ]
    },
    {
      "cell_type": "code",
      "metadata": {
        "id": "mXMkC96hhqXD"
      },
      "source": [
        ""
      ],
      "execution_count": null,
      "outputs": []
    }
  ]
}