{
  "nbformat": 4,
  "nbformat_minor": 0,
  "metadata": {
    "colab": {
      "name": "Inheritance.ipynb",
      "provenance": [],
      "authorship_tag": "ABX9TyM8csz2VVwTKKlO/xy1ORqY",
      "include_colab_link": true
    },
    "kernelspec": {
      "name": "python3",
      "display_name": "Python 3"
    },
    "language_info": {
      "name": "python"
    }
  },
  "cells": [
    {
      "cell_type": "markdown",
      "metadata": {
        "id": "view-in-github",
        "colab_type": "text"
      },
      "source": [
        "<a href=\"https://colab.research.google.com/github/sunilchaurha/python-learning/blob/main/Inheritance.ipynb\" target=\"_parent\"><img src=\"https://colab.research.google.com/assets/colab-badge.svg\" alt=\"Open In Colab\"/></a>"
      ]
    },
    {
      "cell_type": "code",
      "metadata": {
        "id": "rzQ83OBJFnWX"
      },
      "source": [
        "class Employee:\n",
        "  def __init__(self, id, name):\n",
        "    self.id=id\n",
        "    self.name=name"
      ],
      "execution_count": null,
      "outputs": []
    },
    {
      "cell_type": "code",
      "metadata": {
        "id": "D5aJImupK5g2"
      },
      "source": [
        "class PayrollSystem:\n",
        "  def calculate_payroll(self,employees):\n",
        "    print(\"Calculating Payroll\")\n",
        "    for employee in employees:\n",
        "      print(f'Payroll for:{employee.id} - {employee.name}')\n",
        "      print(f'- Check amount:{employee.calculate_payroll()}')\n",
        "      print(\"\")"
      ],
      "execution_count": null,
      "outputs": []
    },
    {
      "cell_type": "code",
      "metadata": {
        "id": "yi-1eu-EK86V"
      },
      "source": [
        "class SalaryEmployee(Employee):\n",
        "  def __init__(self,id,name,weekly_salary):\n",
        "    super().__init__(id,name)\n",
        "    self.weekly_salary = weekly_salary\n",
        "\n",
        "  def calculate_payroll(self):\n",
        "    return self.weekly_salary"
      ],
      "execution_count": null,
      "outputs": []
    },
    {
      "cell_type": "code",
      "metadata": {
        "id": "6d-V8pCGK_xU"
      },
      "source": [
        "class HourlyEmployee(Employee):\n",
        "  def __init__(self,id,name,hours_worked,hour_rate):\n",
        "    super().__init__(id,name)\n",
        "    self.hours_worked = hours_worked\n",
        "    self.hour_rate = hour_rate\n",
        "  \n",
        "  def calculate_payroll(self):\n",
        "    return self.hours_worked*self.hour_rate"
      ],
      "execution_count": 8,
      "outputs": []
    },
    {
      "cell_type": "code",
      "metadata": {
        "id": "SFB0mBe5LC8n"
      },
      "source": [
        "\n",
        "class CommissionEmployee(SalaryEmployee):\n",
        "  def __init__(self, id,name,weekly_salary,commission):\n",
        "    super().__init__(id,name,weekly_salary)\n",
        "    self.commission=commission\n",
        "\n",
        "  def calculate_payroll(self):\n",
        "    fixed = super().calculate_payroll()\n",
        "    return fixed + self.commission"
      ],
      "execution_count": 6,
      "outputs": []
    },
    {
      "cell_type": "code",
      "metadata": {
        "colab": {
          "base_uri": "https://localhost:8080/"
        },
        "id": "0hxEtqsiS-Mx",
        "outputId": "ff7b9146-351a-4ed2-b8ee-d8e7743c4c41"
      },
      "source": [
        "salary_employee = SalaryEmployee(1,\"John\",1500)\n",
        "hourly_employee = HourlyEmployee(2,\"Jane\",40,15)\n",
        "commission_employee = CommissionEmployee(3,\"Ray\",1000,250)\n",
        "\n",
        "payroll_system = PayrollSystem()\n",
        "payroll_system.calculate_payroll([\n",
        "                                  salary_employee,\n",
        "                                  hourly_employee,\n",
        "                                  commission_employee\n",
        "])"
      ],
      "execution_count": 9,
      "outputs": [
        {
          "output_type": "stream",
          "text": [
            "Calculating Payroll\n",
            "Payroll for:1 - John\n",
            "- Check amount:1500\n",
            "\n",
            "Payroll for:2 - Jane\n",
            "- Check amount:600\n",
            "\n",
            "Payroll for:3 - Ray\n",
            "- Check amount:1250\n",
            "\n"
          ],
          "name": "stdout"
        }
      ]
    },
    {
      "cell_type": "code",
      "metadata": {
        "id": "x3LVtBLripMF"
      },
      "source": [
        "class Manager(SalaryEmployee):\n",
        "  def work(self,hours):\n",
        "    print(f'{self.name} always screams for atleast {hours} hours everyday')\n",
        "\n",
        "class Secretary(SalaryEmployee):\n",
        "  def work(self,hours):\n",
        "    print(f'{self.name} spends time chilling at others desk for {hours} hours everyday')\n",
        "\n",
        "class SalesPerson(CommissionEmployee):\n",
        "  def work(self,hours):\n",
        "    print(f'{self.name} spends {hours} hours on phone everyday')\n",
        "\n",
        "class FactoryWorker(HourlyEmployee):\n",
        "  def work(self,hours):\n",
        "    print(f'{self.name} works hard, breaking rocks for {hours} hours everyday')"
      ],
      "execution_count": 19,
      "outputs": []
    },
    {
      "cell_type": "code",
      "metadata": {
        "id": "SQEkPNtfitYz"
      },
      "source": [
        "\n",
        "class ProductivitySystem:\n",
        "  def track(self,employees,hours):\n",
        "    print(\"Tracking Employees Productivity:\")\n",
        "    for employee in employees:\n",
        "      employee.work(hours)\n",
        "    print('')"
      ],
      "execution_count": 17,
      "outputs": []
    },
    {
      "cell_type": "code",
      "metadata": {
        "colab": {
          "base_uri": "https://localhost:8080/"
        },
        "id": "G9QnqQXSixxZ",
        "outputId": "cd15de38-18da-4990-daab-a158d2d65f80"
      },
      "source": [
        "manager = Manager(1,\"Puja\",3000)\n",
        "secretary = Secretary(1,\"Vijay\",1500)\n",
        "sales_guy = SalesPerson(1,\"Roy\",1000,250)\n",
        "factory_worker = FactoryWorker(1,\"Teams\",40,15)\n",
        "\n",
        "employees = [\n",
        "             manager,\n",
        "             secretary,\n",
        "             sales_guy,\n",
        "             factory_worker\n",
        "]\n",
        "productivity_system = ProductivitySystem()\n",
        "productivity_system.track(employees, 40)"
      ],
      "execution_count": 20,
      "outputs": [
        {
          "output_type": "stream",
          "text": [
            "Tracking Employees Productivity:\n",
            "Puja always screams for atleast 40 hours everyday\n",
            "Vijay spends time chilling at others desk for 40 hours everyday\n",
            "Roy spends 40 hours on phone everyday\n",
            "Teams works hard, breaking rocks for 40 hours everyday\n",
            "\n"
          ],
          "name": "stdout"
        }
      ]
    }
  ]
}