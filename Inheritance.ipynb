{
  "nbformat": 4,
  "nbformat_minor": 0,
  "metadata": {
    "colab": {
      "name": "Inheritance.ipynb",
      "provenance": [],
      "authorship_tag": "ABX9TyNEZseQtrVUuc1XqwL6MTCy",
      "include_colab_link": true
    },
    "kernelspec": {
      "name": "python3",
      "display_name": "Python 3"
    },
    "language_info": {
      "name": "python"
    }
  },
  "cells": [
    {
      "cell_type": "markdown",
      "metadata": {
        "id": "view-in-github",
        "colab_type": "text"
      },
      "source": [
        "<a href=\"https://colab.research.google.com/github/sunilchaurha/python-learning/blob/main/Inheritance.ipynb\" target=\"_parent\"><img src=\"https://colab.research.google.com/assets/colab-badge.svg\" alt=\"Open In Colab\"/></a>"
      ]
    },
    {
      "cell_type": "code",
      "metadata": {
        "id": "rzQ83OBJFnWX"
      },
      "source": [
        "class Employee:\n",
        "  def __init__(self, id, name):\n",
        "    self.id=id\n",
        "    self.name=name"
      ],
      "execution_count": 4,
      "outputs": []
    },
    {
      "cell_type": "code",
      "metadata": {
        "id": "D5aJImupK5g2"
      },
      "source": [
        "class PayrollSystem:\n",
        "  def calculate_payroll(self,employees):\n",
        "    print(\"Calculating Payroll\")\n",
        "    for employee in employees:\n",
        "      print(f'Payroll for:{employee.id} - {employee.name}')\n",
        "      print(f'- Check amount:{employee.calculate_payroll()}')\n",
        "      print(\"\")"
      ],
      "execution_count": 5,
      "outputs": []
    },
    {
      "cell_type": "code",
      "metadata": {
        "id": "yi-1eu-EK86V"
      },
      "source": [
        "class SalaryEmployee(Employee):\n",
        "  def __init__(self,id,name,weekly_salary):\n",
        "    super().__init__(id,name)\n",
        "    self.weekly_salary = weekly_salary\n",
        "\n",
        "  def calculate_payroll(self):\n",
        "    return self.weekly_salary"
      ],
      "execution_count": 6,
      "outputs": []
    },
    {
      "cell_type": "code",
      "metadata": {
        "id": "6d-V8pCGK_xU"
      },
      "source": [
        "class HourlyEmployee(Employee):\n",
        "  def __init__(self,id,name,hours_worked,hour_rate):\n",
        "    super().__init__(id,name)\n",
        "    self.hours_worked = hours_worked\n",
        "    self.hour_rate = hour_rate\n",
        "  \n",
        "  def calculate_payroll(self):\n",
        "    return self.hours_worked*self.hour_rate"
      ],
      "execution_count": 7,
      "outputs": []
    },
    {
      "cell_type": "code",
      "metadata": {
        "id": "SFB0mBe5LC8n"
      },
      "source": [
        "\n",
        "class CommissionEmployee(SalaryEmployee):\n",
        "  def __init__(self, id,name,weekly_salary,commission):\n",
        "    super().__init__(id,name,weekly_salary)\n",
        "    self.commission=commission\n",
        "\n",
        "  def calculate_payroll(self):\n",
        "    fixed = super().calculate_payroll()\n",
        "    return fixed + self.commission"
      ],
      "execution_count": 8,
      "outputs": []
    },
    {
      "cell_type": "code",
      "metadata": {
        "colab": {
          "base_uri": "https://localhost:8080/"
        },
        "id": "0hxEtqsiS-Mx",
        "outputId": "54dc08a0-1290-4336-ccb8-db082d4fe372"
      },
      "source": [
        "salary_employee = SalaryEmployee(1,\"John\",1500)\n",
        "hourly_employee = HourlyEmployee(2,\"Jane\",40,15)\n",
        "commission_employee = CommissionEmployee(3,\"Ray\",1000,250)\n",
        "\n",
        "payroll_system = PayrollSystem()\n",
        "payroll_system.calculate_payroll([\n",
        "                                  salary_employee,\n",
        "                                  hourly_employee,\n",
        "                                  commission_employee\n",
        "])"
      ],
      "execution_count": 9,
      "outputs": [
        {
          "output_type": "stream",
          "text": [
            "Calculating Payroll\n",
            "Payroll for:1 - John\n",
            "- Check amount:1500\n",
            "\n",
            "Payroll for:2 - Jane\n",
            "- Check amount:600\n",
            "\n",
            "Payroll for:3 - Ray\n",
            "- Check amount:1250\n",
            "\n"
          ],
          "name": "stdout"
        }
      ]
    },
    {
      "cell_type": "code",
      "metadata": {
        "id": "x3LVtBLripMF"
      },
      "source": [
        "class Manager(SalaryEmployee):\n",
        "  def work(self,hours):\n",
        "    print(f'{self.name} always screams for atleast {hours} hours everyday')\n",
        "\n",
        "class Secretary(SalaryEmployee):\n",
        "  def work(self,hours):\n",
        "    print(f'{self.name} spends time chilling at others desk for {hours} hours everyday')\n",
        "\n",
        "class SalesPerson(CommissionEmployee):\n",
        "  def work(self,hours):\n",
        "    print(f'{self.name} spends {hours} hours on phone everyday')\n",
        "\n",
        "class FactoryWorker(HourlyEmployee):\n",
        "  def work(self,hours):\n",
        "    print(f'{self.name} works hard, breaking rocks for {hours} hours everyday')"
      ],
      "execution_count": 10,
      "outputs": []
    },
    {
      "cell_type": "code",
      "metadata": {
        "id": "SQEkPNtfitYz"
      },
      "source": [
        "\n",
        "class ProductivitySystem:\n",
        "  def track(self,employees,hours):\n",
        "    print(\"Tracking Employees Productivity:\")\n",
        "    for employee in employees:\n",
        "      employee.work(hours)\n",
        "    print('')"
      ],
      "execution_count": 11,
      "outputs": []
    },
    {
      "cell_type": "code",
      "metadata": {
        "colab": {
          "base_uri": "https://localhost:8080/"
        },
        "id": "G9QnqQXSixxZ",
        "outputId": "42cab95f-39cc-4968-ba78-fd2d560df099"
      },
      "source": [
        "manager = Manager(1,\"Puja\",3000)\n",
        "secretary = Secretary(1,\"Vijay\",1500)\n",
        "sales_guy = SalesPerson(1,\"Roy\",1000,250)\n",
        "factory_worker = FactoryWorker(1,\"Teams\",40,15)\n",
        "\n",
        "employees = [\n",
        "             manager,\n",
        "             secretary,\n",
        "             sales_guy,\n",
        "             factory_worker\n",
        "]\n",
        "productivity_system = ProductivitySystem()\n",
        "productivity_system.track(employees, 40)"
      ],
      "execution_count": 12,
      "outputs": [
        {
          "output_type": "stream",
          "text": [
            "Tracking Employees Productivity:\n",
            "Puja always screams for atleast 40 hours everyday\n",
            "Vijay spends time chilling at others desk for 40 hours everyday\n",
            "Roy spends 40 hours on phone everyday\n",
            "Teams works hard, breaking rocks for 40 hours everyday\n",
            "\n"
          ],
          "name": "stdout"
        }
      ]
    },
    {
      "cell_type": "code",
      "metadata": {
        "colab": {
          "base_uri": "https://localhost:8080/"
        },
        "id": "j9CS_iSEke-N",
        "outputId": "02359370-daed-4f70-d664-5d800aba23f1"
      },
      "source": [
        "payroll_system = PayrollSystem()\n",
        "payroll_system.calculate_payroll(employees)"
      ],
      "execution_count": 13,
      "outputs": [
        {
          "output_type": "stream",
          "text": [
            "Calculating Payroll\n",
            "Payroll for:1 - Puja\n",
            "- Check amount:3000\n",
            "\n",
            "Payroll for:1 - Vijay\n",
            "- Check amount:1500\n",
            "\n",
            "Payroll for:1 - Roy\n",
            "- Check amount:1250\n",
            "\n",
            "Payroll for:1 - Teams\n",
            "- Check amount:600\n",
            "\n"
          ],
          "name": "stdout"
        }
      ]
    },
    {
      "cell_type": "code",
      "metadata": {
        "id": "Oi0ZqjBqUpJW"
      },
      "source": [
        "class TemporarySecretary(HourlyEmployee,Secretary):\n",
        "  pass"
      ],
      "execution_count": 14,
      "outputs": []
    },
    {
      "cell_type": "code",
      "metadata": {
        "colab": {
          "base_uri": "https://localhost:8080/",
          "height": 316
        },
        "id": "-t66eajwUuRQ",
        "outputId": "2f47c9f8-c18b-4b85-c756-2620386ddcaa"
      },
      "source": [
        "manager = Manager(1, \"Mary\", 3000)\n",
        "secretary = Secretary(2,\"John\",1500)\n",
        "sales_guy = SalesPerson(3,\"Ray\",1000,250)\n",
        "factory_worker = FactoryWorker(4,\"Token\",40,15)\n",
        "temporary_secretary = TemporarySecretary(5,\"Tempo\",40,9)"
      ],
      "execution_count": 15,
      "outputs": [
        {
          "output_type": "error",
          "ename": "TypeError",
          "evalue": "ignored",
          "traceback": [
            "\u001b[0;31m---------------------------------------------------------------------------\u001b[0m",
            "\u001b[0;31mTypeError\u001b[0m                                 Traceback (most recent call last)",
            "\u001b[0;32m<ipython-input-15-1859666f26df>\u001b[0m in \u001b[0;36m<module>\u001b[0;34m()\u001b[0m\n\u001b[1;32m      3\u001b[0m \u001b[0msales_guy\u001b[0m \u001b[0;34m=\u001b[0m \u001b[0mSalesPerson\u001b[0m\u001b[0;34m(\u001b[0m\u001b[0;36m3\u001b[0m\u001b[0;34m,\u001b[0m\u001b[0;34m\"Ray\"\u001b[0m\u001b[0;34m,\u001b[0m\u001b[0;36m1000\u001b[0m\u001b[0;34m,\u001b[0m\u001b[0;36m250\u001b[0m\u001b[0;34m)\u001b[0m\u001b[0;34m\u001b[0m\u001b[0;34m\u001b[0m\u001b[0m\n\u001b[1;32m      4\u001b[0m \u001b[0mfactory_worker\u001b[0m \u001b[0;34m=\u001b[0m \u001b[0mFactoryWorker\u001b[0m\u001b[0;34m(\u001b[0m\u001b[0;36m4\u001b[0m\u001b[0;34m,\u001b[0m\u001b[0;34m\"Token\"\u001b[0m\u001b[0;34m,\u001b[0m\u001b[0;36m40\u001b[0m\u001b[0;34m,\u001b[0m\u001b[0;36m15\u001b[0m\u001b[0;34m)\u001b[0m\u001b[0;34m\u001b[0m\u001b[0;34m\u001b[0m\u001b[0m\n\u001b[0;32m----> 5\u001b[0;31m \u001b[0mtemporary_secretary\u001b[0m \u001b[0;34m=\u001b[0m \u001b[0mTemporarySecretary\u001b[0m\u001b[0;34m(\u001b[0m\u001b[0;36m5\u001b[0m\u001b[0;34m,\u001b[0m\u001b[0;34m\"Tempo\"\u001b[0m\u001b[0;34m,\u001b[0m\u001b[0;36m40\u001b[0m\u001b[0;34m,\u001b[0m\u001b[0;36m9\u001b[0m\u001b[0;34m)\u001b[0m\u001b[0;34m\u001b[0m\u001b[0;34m\u001b[0m\u001b[0m\n\u001b[0m",
            "\u001b[0;32m<ipython-input-7-4415e82d96b5>\u001b[0m in \u001b[0;36m__init__\u001b[0;34m(self, id, name, hours_worked, hour_rate)\u001b[0m\n\u001b[1;32m      1\u001b[0m \u001b[0;32mclass\u001b[0m \u001b[0mHourlyEmployee\u001b[0m\u001b[0;34m(\u001b[0m\u001b[0mEmployee\u001b[0m\u001b[0;34m)\u001b[0m\u001b[0;34m:\u001b[0m\u001b[0;34m\u001b[0m\u001b[0;34m\u001b[0m\u001b[0m\n\u001b[1;32m      2\u001b[0m   \u001b[0;32mdef\u001b[0m \u001b[0m__init__\u001b[0m\u001b[0;34m(\u001b[0m\u001b[0mself\u001b[0m\u001b[0;34m,\u001b[0m\u001b[0mid\u001b[0m\u001b[0;34m,\u001b[0m\u001b[0mname\u001b[0m\u001b[0;34m,\u001b[0m\u001b[0mhours_worked\u001b[0m\u001b[0;34m,\u001b[0m\u001b[0mhour_rate\u001b[0m\u001b[0;34m)\u001b[0m\u001b[0;34m:\u001b[0m\u001b[0;34m\u001b[0m\u001b[0;34m\u001b[0m\u001b[0m\n\u001b[0;32m----> 3\u001b[0;31m     \u001b[0msuper\u001b[0m\u001b[0;34m(\u001b[0m\u001b[0;34m)\u001b[0m\u001b[0;34m.\u001b[0m\u001b[0m__init__\u001b[0m\u001b[0;34m(\u001b[0m\u001b[0mid\u001b[0m\u001b[0;34m,\u001b[0m\u001b[0mname\u001b[0m\u001b[0;34m)\u001b[0m\u001b[0;34m\u001b[0m\u001b[0;34m\u001b[0m\u001b[0m\n\u001b[0m\u001b[1;32m      4\u001b[0m     \u001b[0mself\u001b[0m\u001b[0;34m.\u001b[0m\u001b[0mhours_worked\u001b[0m \u001b[0;34m=\u001b[0m \u001b[0mhours_worked\u001b[0m\u001b[0;34m\u001b[0m\u001b[0;34m\u001b[0m\u001b[0m\n\u001b[1;32m      5\u001b[0m     \u001b[0mself\u001b[0m\u001b[0;34m.\u001b[0m\u001b[0mhour_rate\u001b[0m \u001b[0;34m=\u001b[0m \u001b[0mhour_rate\u001b[0m\u001b[0;34m\u001b[0m\u001b[0;34m\u001b[0m\u001b[0m\n",
            "\u001b[0;31mTypeError\u001b[0m: __init__() missing 1 required positional argument: 'weekly_salary'"
          ]
        }
      ]
    },
    {
      "cell_type": "code",
      "metadata": {
        "id": "F_JdJt4mVE5m"
      },
      "source": [
        "class TemporarySecretary(Secretary,HourlyEmployee):\n",
        "  def __init__(self,id,name,hours_worked,hour_rate):\n",
        "    HourlyEmployee.__init__(self,id,name,hours_worked,hour_rate)\n",
        "\n",
        "\n",
        "manager = Manager(1, \"Mary\", 3000)\n",
        "secretary = Secretary(2,\"John\",1500)\n",
        "sales_guy = SalesPerson(3,\"Ray\",1000,250)\n",
        "factory_worker = FactoryWorker(4,\"Token\",40,15)\n",
        "temporary_secretary = TemporarySecretary(5,\"Tempo\",40,9)"
      ],
      "execution_count": 16,
      "outputs": []
    },
    {
      "cell_type": "code",
      "metadata": {
        "colab": {
          "base_uri": "https://localhost:8080/"
        },
        "id": "L8Y4IDFtVJPM",
        "outputId": "fb2e0380-2f0e-4bfc-8faf-debf8939a47e"
      },
      "source": [
        "company_employees=[\n",
        "                   manager,\n",
        "                   secretary,\n",
        "                   sales_guy,\n",
        "                   factory_worker\n",
        "]\n",
        "\n",
        "productivity_system = ProductivitySystem()\n",
        "productivity_system.track(company_employees, 40)"
      ],
      "execution_count": 18,
      "outputs": [
        {
          "output_type": "stream",
          "text": [
            "Tracking Employees Productivity:\n",
            "Mary always screams for atleast 40 hours everyday\n",
            "John spends time chilling at others desk for 40 hours everyday\n",
            "Ray spends 40 hours on phone everyday\n",
            "Token works hard, breaking rocks for 40 hours everyday\n",
            "\n"
          ],
          "name": "stdout"
        }
      ]
    },
    {
      "cell_type": "code",
      "metadata": {
        "colab": {
          "base_uri": "https://localhost:8080/"
        },
        "id": "WjBeOyXJVVFP",
        "outputId": "547e38eb-bae5-443d-c68a-110fb39a63db"
      },
      "source": [
        "payroll_system = PayrollSystem()\n",
        "payroll_system.calculate_payroll(company_employees)"
      ],
      "execution_count": 19,
      "outputs": [
        {
          "output_type": "stream",
          "text": [
            "Calculating Payroll\n",
            "Payroll for:1 - Mary\n",
            "- Check amount:3000\n",
            "\n",
            "Payroll for:2 - John\n",
            "- Check amount:1500\n",
            "\n",
            "Payroll for:3 - Ray\n",
            "- Check amount:1250\n",
            "\n",
            "Payroll for:4 - Token\n",
            "- Check amount:600\n",
            "\n"
          ],
          "name": "stdout"
        }
      ]
    }
  ]
}