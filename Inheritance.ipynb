{
  "nbformat": 4,
  "nbformat_minor": 0,
  "metadata": {
    "colab": {
      "name": "Inheritance.ipynb",
      "provenance": [],
      "authorship_tag": "ABX9TyMV++Ap95i8EpUlHhlx7ndP",
      "include_colab_link": true
    },
    "kernelspec": {
      "name": "python3",
      "display_name": "Python 3"
    },
    "language_info": {
      "name": "python"
    }
  },
  "cells": [
    {
      "cell_type": "markdown",
      "metadata": {
        "id": "view-in-github",
        "colab_type": "text"
      },
      "source": [
        "<a href=\"https://colab.research.google.com/github/sunilchaurha/python-learning/blob/main/Inheritance.ipynb\" target=\"_parent\"><img src=\"https://colab.research.google.com/assets/colab-badge.svg\" alt=\"Open In Colab\"/></a>"
      ]
    },
    {
      "cell_type": "code",
      "metadata": {
        "id": "rzQ83OBJFnWX"
      },
      "source": [
        "class Employee:\n",
        "  def __init__(self, id, name):\n",
        "    self.id=id\n",
        "    self.name=name"
      ],
      "execution_count": 1,
      "outputs": []
    },
    {
      "cell_type": "code",
      "metadata": {
        "id": "D5aJImupK5g2"
      },
      "source": [
        "class PayrollSystem:\n",
        "  def calculate_payroll(self,employees):\n",
        "    print(\"Calculating Payroll\")\n",
        "    for employee in employees:\n",
        "      print(f'Payroll for:{employee.id} - {employee.name}')\n",
        "      print(f'- Check amount:{employee.calculate_payroll()}')\n",
        "      print(\"\")"
      ],
      "execution_count": 2,
      "outputs": []
    },
    {
      "cell_type": "code",
      "metadata": {
        "id": "yi-1eu-EK86V"
      },
      "source": [
        "class SalaryEmployee(Employee):\n",
        "  def __init__(self,id,name,weekly_salary):\n",
        "    super().__init__(id,name)\n",
        "    self.weekly_salary = weekly_salary\n",
        "\n",
        "  def calculate_payroll(self):\n",
        "    return self.weekly_salary"
      ],
      "execution_count": 3,
      "outputs": []
    },
    {
      "cell_type": "code",
      "metadata": {
        "id": "6d-V8pCGK_xU"
      },
      "source": [
        "class HourlyEmployee(Employee):\n",
        "  def __init__(self,id,name,hours_worked,hour_rate):\n",
        "    super().__init__(id,name)\n",
        "    self.hours_worked = hours_worked\n",
        "    self.hour_rate = hour_rate\n",
        "  \n",
        "    def calculate_payroll(self):\n",
        "      return self.hours_worked*self.hour_rate"
      ],
      "execution_count": 4,
      "outputs": []
    },
    {
      "cell_type": "code",
      "metadata": {
        "id": "SFB0mBe5LC8n"
      },
      "source": [
        "\n",
        "class CommissionEmployee(SalaryEmployee):\n",
        "  def __init__(self, id,name,weekly_salary,commission):\n",
        "    super().__init__(id,name,weekly_salary)\n",
        "    self.commission=commission\n",
        "\n",
        "  def calculate_payroll(self):\n",
        "    fixed = super().calculate_payroll()\n",
        "    return fixed + self.commission"
      ],
      "execution_count": 5,
      "outputs": []
    }
  ]
}