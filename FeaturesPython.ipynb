{
  "nbformat": 4,
  "nbformat_minor": 0,
  "metadata": {
    "colab": {
      "name": "FeaturesPython.ipynb",
      "provenance": [],
      "authorship_tag": "ABX9TyMtld5gDom3WwbPPhoR28Ph",
      "include_colab_link": true
    },
    "kernelspec": {
      "name": "python3",
      "display_name": "Python 3"
    },
    "language_info": {
      "name": "python"
    }
  },
  "cells": [
    {
      "cell_type": "markdown",
      "metadata": {
        "id": "view-in-github",
        "colab_type": "text"
      },
      "source": [
        "<a href=\"https://colab.research.google.com/github/sunilchaurha/python-learning/blob/main/FeaturesPython.ipynb\" target=\"_parent\"><img src=\"https://colab.research.google.com/assets/colab-badge.svg\" alt=\"Open In Colab\"/></a>"
      ]
    },
    {
      "cell_type": "markdown",
      "metadata": {
        "id": "w2RYwLWov7ZD"
      },
      "source": [
        "SUB CLASSES:"
      ]
    },
    {
      "cell_type": "code",
      "metadata": {
        "id": "feUEFydHt1K6"
      },
      "source": [
        "\n",
        "class Trainer(object):\n",
        "  def __init__(self, name, behaviour, knowledge, content):\n",
        "    self.name = name\n",
        "    self.behaviour = behaviour\n",
        "    self.knowledge = knowledge\n",
        "    self.content = content\n",
        "\n",
        "  def get_behaviuor(self):\n",
        "    return self.behaviour\n",
        "  def get_content(self):\n",
        "    return self.content"
      ],
      "execution_count": 5,
      "outputs": []
    },
    {
      "cell_type": "code",
      "metadata": {
        "id": "vdOBQJxduoRW"
      },
      "source": [
        "class GoodTrainer(Trainer):\n",
        "  def __init__(self,name, behaviour, knowledge, content):\n",
        "    super().__init__(name, behaviour, knowledge, content)\n",
        "\n",
        "  def encourage(self):\n",
        "    print(\"Good trainer encourages hands on practice\")  \n",
        "  def nurture_talent(self):\n",
        "    print(\"Good trainer encourages hands on practice and nurtures audience\")    "
      ],
      "execution_count": 6,
      "outputs": []
    },
    {
      "cell_type": "code",
      "metadata": {
        "id": "41vem0qKvbu-"
      },
      "source": [
        "result = GoodTrainer(\"Deepanshu\", \"Good\", \"ample\", \"Python Programming\")"
      ],
      "execution_count": 8,
      "outputs": []
    },
    {
      "cell_type": "code",
      "metadata": {
        "colab": {
          "base_uri": "https://localhost:8080/",
          "height": 35
        },
        "id": "RivD1ff2vo-8",
        "outputId": "0b04348f-cfb0-4581-cf63-648eea6da285"
      },
      "source": [
        "result.content"
      ],
      "execution_count": 9,
      "outputs": [
        {
          "output_type": "execute_result",
          "data": {
            "application/vnd.google.colaboratory.intrinsic+json": {
              "type": "string"
            },
            "text/plain": [
              "'Python Programming'"
            ]
          },
          "metadata": {
            "tags": []
          },
          "execution_count": 9
        }
      ]
    },
    {
      "cell_type": "code",
      "metadata": {
        "colab": {
          "base_uri": "https://localhost:8080/"
        },
        "id": "5RDVSRNe9AwK",
        "outputId": "a5b300d0-3f52-445f-ca17-a5f754db3aba"
      },
      "source": [
        "from __future__ import generators\n",
        "import random\n",
        "\n",
        "class Outcome:\n",
        "    def __init__(self, value, name):\n",
        "        self.value = value\n",
        "        self.name = name\n",
        "    def __str__(self): return self.name\n",
        "    def __eq__(self, other):\n",
        "        return self.value == other.value\n",
        "\n",
        "Outcome.WIN = Outcome(0, \"win\")\n",
        "Outcome.LOSE = Outcome(1, \"lose\")\n",
        "Outcome.DRAW = Outcome(2, \"draw\")\n",
        "\n",
        "class Item(object):\n",
        "    def __str__(self):\n",
        "        return self.__class__.__name__\n",
        "\n",
        "class Paper(Item):\n",
        "    def compete(self, item):\n",
        "        return item.evalPaper(self)\n",
        "    def evalPaper(self, item):\n",
        "        return Outcome.DRAW\n",
        "    def evalScissors(self, item):\n",
        "        return Outcome.WIN\n",
        "    def evalRock(self, item):\n",
        "        return Outcome.LOSE\n",
        "\n",
        "class Scissors(Item):\n",
        "    def compete(self, item):\n",
        "        return item.evalScissors(self)\n",
        "    def evalPaper(self, item):\n",
        "        return Outcome.LOSE\n",
        "    def evalScissors(self, item):\n",
        "        return Outcome.DRAW\n",
        "    def evalRock(self, item):\n",
        "        return Outcome.WIN\n",
        "\n",
        "class Rock(Item):\n",
        "    def compete(self, item):\n",
        "        return item.evalRock(self)\n",
        "    def evalPaper(self, item):\n",
        "        return Outcome.WIN\n",
        "    def evalScissors(self, item):\n",
        "        return Outcome.LOSE\n",
        "    def evalRock(self, item):\n",
        "        return Outcome.DRAW\n",
        "\n",
        "def match(item1, item2):\n",
        "    print(\"%s <--> %s : %s\" % (\n",
        "      item1, item2, item1.compete(item2)))\n",
        "\n",
        "def itemPairGen(n):\n",
        "    Items = Item.__subclasses__()\n",
        "    for i in range(n):\n",
        "        yield (random.choice(Items)(),\n",
        "               random.choice(Items)())\n",
        "\n",
        "for item1, item2 in itemPairGen(20):\n",
        "    match(item1, item2)"
      ],
      "execution_count": 10,
      "outputs": [
        {
          "output_type": "stream",
          "text": [
            "Scissors <--> Scissors : draw\n",
            "Scissors <--> Paper : win\n",
            "Rock <--> Scissors : win\n",
            "Scissors <--> Scissors : draw\n",
            "Paper <--> Rock : win\n",
            "Rock <--> Scissors : win\n",
            "Paper <--> Rock : win\n",
            "Paper <--> Paper : draw\n",
            "Scissors <--> Paper : win\n",
            "Paper <--> Scissors : lose\n",
            "Rock <--> Scissors : win\n",
            "Rock <--> Scissors : win\n",
            "Scissors <--> Scissors : draw\n",
            "Scissors <--> Scissors : draw\n",
            "Paper <--> Paper : draw\n",
            "Rock <--> Paper : lose\n",
            "Paper <--> Paper : draw\n",
            "Scissors <--> Paper : win\n",
            "Paper <--> Scissors : lose\n",
            "Scissors <--> Paper : win\n"
          ],
          "name": "stdout"
        }
      ]
    },
    {
      "cell_type": "code",
      "metadata": {
        "colab": {
          "base_uri": "https://localhost:8080/"
        },
        "id": "h_G9EknX9FbO",
        "outputId": "17832e17-4c43-45af-bfbb-7a2ff2f7642f"
      },
      "source": [
        "from __future__ import generators\n",
        "import random\n",
        "\n",
        "class Outcome:\n",
        "    def __init__(self, value, name):\n",
        "        self.value = value\n",
        "        self.name = name\n",
        "    def __str__(self): return self.name\n",
        "    def __eq__(self, other):\n",
        "        return self.value == other.value\n",
        "\n",
        "Outcome.WIN = Outcome(0, \"win\")\n",
        "Outcome.LOSE = Outcome(1, \"lose\")\n",
        "Outcome.DRAW = Outcome(2, \"draw\")\n",
        "\n",
        "class Item(object):\n",
        "    def compete(self, item):\n",
        "        return outcome[self.__class__ ,item.__class__]\n",
        "\n",
        "    def __str__(self):\n",
        "      return self.__class__.__name__\n",
        "\n",
        "class Paper(Item): pass\n",
        "class Scissor(Item): pass\n",
        "class Rock(Item): pass\n",
        "\n",
        "outcome = {\n",
        "    (Paper,Rock):Outcome.WIN,\n",
        "    (Paper,Scissor):Outcome.LOSE,\n",
        "    (Paper,Paper):Outcome.DRAW,\n",
        "    (Scissor,Rock):Outcome.LOSE,\n",
        "    (Scissor,Scissor):Outcome.DRAW,\n",
        "    (Scissor,Paper):Outcome.WIN,\n",
        "    (Rock,Scissor):Outcome.WIN,\n",
        "    (Rock,Paper):Outcome.LOSE,\n",
        "    (Rock,Rock):Outcome.DRAW,\n",
        "}\n",
        "\n",
        "def match(item1, item2):\n",
        "    print(\"%s <--> %s : %s\" % (\n",
        "      item1, item2, item1.compete(item2)))\n",
        "    \n",
        "\n",
        "def itemPairGen(n):\n",
        "    Items = Item.__subclasses__()\n",
        "    for i in range(n):\n",
        "        yield (random.choice(Items)(),\n",
        "               random.choice(Items)())\n",
        "\n",
        "for item1, item2 in itemPairGen(20):\n",
        "    match(item1, item2)"
      ],
      "execution_count": 11,
      "outputs": [
        {
          "output_type": "stream",
          "text": [
            "Rock <--> Scissor : win\n",
            "Scissor <--> Scissor : draw\n",
            "Paper <--> Paper : draw\n",
            "Rock <--> Paper : lose\n",
            "Scissor <--> Paper : win\n",
            "Rock <--> Scissor : win\n",
            "Rock <--> Scissor : win\n",
            "Scissor <--> Scissor : draw\n",
            "Rock <--> Paper : lose\n",
            "Rock <--> Rock : draw\n",
            "Paper <--> Rock : win\n",
            "Paper <--> Scissor : lose\n",
            "Scissor <--> Scissor : draw\n",
            "Scissor <--> Rock : lose\n",
            "Scissor <--> Scissor : draw\n",
            "Rock <--> Paper : lose\n",
            "Scissor <--> Rock : lose\n",
            "Scissor <--> Paper : win\n",
            "Paper <--> Scissor : lose\n",
            "Paper <--> Rock : win\n"
          ],
          "name": "stdout"
        }
      ]
    }
  ]
}