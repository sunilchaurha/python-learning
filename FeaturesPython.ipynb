{
  "nbformat": 4,
  "nbformat_minor": 0,
  "metadata": {
    "colab": {
      "name": "FeaturesPython.ipynb",
      "provenance": [],
      "authorship_tag": "ABX9TyOmMEhNL8fCWi7racdbKATv",
      "include_colab_link": true
    },
    "kernelspec": {
      "name": "python3",
      "display_name": "Python 3"
    },
    "language_info": {
      "name": "python"
    }
  },
  "cells": [
    {
      "cell_type": "markdown",
      "metadata": {
        "id": "view-in-github",
        "colab_type": "text"
      },
      "source": [
        "<a href=\"https://colab.research.google.com/github/sunilchaurha/python-learning/blob/main/FeaturesPython.ipynb\" target=\"_parent\"><img src=\"https://colab.research.google.com/assets/colab-badge.svg\" alt=\"Open In Colab\"/></a>"
      ]
    },
    {
      "cell_type": "markdown",
      "metadata": {
        "id": "w2RYwLWov7ZD"
      },
      "source": [
        "SUB CLASSES:"
      ]
    },
    {
      "cell_type": "code",
      "metadata": {
        "id": "feUEFydHt1K6"
      },
      "source": [
        "\n",
        "class Trainer(object):\n",
        "  def __init__(self, name, behaviour, knowledge, content):\n",
        "    self.name = name\n",
        "    self.behaviour = behaviour\n",
        "    self.knowledge = knowledge\n",
        "    self.content = content\n",
        "\n",
        "  def get_behaviuor(self):\n",
        "    return self.behaviour\n",
        "  def get_content(self):\n",
        "    return self.content"
      ],
      "execution_count": 5,
      "outputs": []
    },
    {
      "cell_type": "code",
      "metadata": {
        "id": "vdOBQJxduoRW"
      },
      "source": [
        "class GoodTrainer(Trainer):\n",
        "  def __init__(self,name, behaviour, knowledge, content):\n",
        "    super().__init__(name, behaviour, knowledge, content)\n",
        "\n",
        "  def encourage(self):\n",
        "    print(\"Good trainer encourages hands on practice\")  \n",
        "  def nurture_talent(self):\n",
        "    print(\"Good trainer encourages hands on practice and nurtures audience\")    "
      ],
      "execution_count": 6,
      "outputs": []
    },
    {
      "cell_type": "code",
      "metadata": {
        "id": "41vem0qKvbu-"
      },
      "source": [
        "result = GoodTrainer(\"Deepanshu\", \"Good\", \"ample\", \"Python Programming\")"
      ],
      "execution_count": 8,
      "outputs": []
    },
    {
      "cell_type": "code",
      "metadata": {
        "colab": {
          "base_uri": "https://localhost:8080/",
          "height": 35
        },
        "id": "RivD1ff2vo-8",
        "outputId": "0b04348f-cfb0-4581-cf63-648eea6da285"
      },
      "source": [
        "result.content"
      ],
      "execution_count": 9,
      "outputs": [
        {
          "output_type": "execute_result",
          "data": {
            "application/vnd.google.colaboratory.intrinsic+json": {
              "type": "string"
            },
            "text/plain": [
              "'Python Programming'"
            ]
          },
          "metadata": {
            "tags": []
          },
          "execution_count": 9
        }
      ]
    }
  ]
}