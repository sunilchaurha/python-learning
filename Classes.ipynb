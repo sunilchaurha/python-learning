{
  "nbformat": 4,
  "nbformat_minor": 0,
  "metadata": {
    "colab": {
      "name": "Classes.ipynb",
      "provenance": [],
      "authorship_tag": "ABX9TyPTGupbTWOVBJTCwLAWgs/P",
      "include_colab_link": true
    },
    "kernelspec": {
      "name": "python3",
      "display_name": "Python 3"
    },
    "language_info": {
      "name": "python"
    }
  },
  "cells": [
    {
      "cell_type": "markdown",
      "metadata": {
        "id": "view-in-github",
        "colab_type": "text"
      },
      "source": [
        "<a href=\"https://colab.research.google.com/github/sunilchaurha/python-learning/blob/main/Classes.ipynb\" target=\"_parent\"><img src=\"https://colab.research.google.com/assets/colab-badge.svg\" alt=\"Open In Colab\"/></a>"
      ]
    },
    {
      "cell_type": "code",
      "metadata": {
        "id": "cxxC9jwlx5Sc"
      },
      "source": [
        "class Training:\n",
        "  def __init__(self, name, level):\n",
        "    self.name = name\n",
        "    self.level = level\n",
        "\n",
        "  def printname(self):\n",
        "    print(\"Training name \"+ self.name)  \n",
        "    print(\"Training level \"+ str(self.level))  \n"
      ],
      "execution_count": 17,
      "outputs": []
    },
    {
      "cell_type": "code",
      "metadata": {
        "colab": {
          "base_uri": "https://localhost:8080/"
        },
        "id": "WTeZkHbu04K4",
        "outputId": "e97fa7e3-fefb-4c81-966a-b7924f013ca4"
      },
      "source": [
        "p1 = Training('Python training',11)\n",
        "p1.printname()"
      ],
      "execution_count": 18,
      "outputs": [
        {
          "output_type": "stream",
          "text": [
            "Training name Python training\n",
            "Training level 11\n"
          ],
          "name": "stdout"
        }
      ]
    },
    {
      "cell_type": "code",
      "metadata": {
        "id": "Cn8jyYa71njG"
      },
      "source": [
        "del p1.level\n",
        "del p1\n"
      ],
      "execution_count": 7,
      "outputs": []
    },
    {
      "cell_type": "code",
      "metadata": {
        "id": "C3wkXtoq1t3U"
      },
      "source": [
        "class Person:\n",
        "  def __init__(self,fname,lname):\n",
        "    self.fname=fname\n",
        "    self.lname=lname\n",
        "  \n",
        "  def printname(self):\n",
        "    print(self.fname,self.lname)"
      ],
      "execution_count": 22,
      "outputs": []
    },
    {
      "cell_type": "code",
      "metadata": {
        "id": "vDhNKwD250ur"
      },
      "source": [
        "  class Trainer:\n",
        "    def __init__(self,fname,lname):\n",
        "      self.fname= fname\n",
        "      self.lname= lname\n",
        "\n",
        "    def printname(self):\n",
        "      print(self.fname , self.lname)"
      ],
      "execution_count": 13,
      "outputs": []
    },
    {
      "cell_type": "code",
      "metadata": {
        "colab": {
          "base_uri": "https://localhost:8080/"
        },
        "id": "iUcKYP6U6JmJ",
        "outputId": "7613dc11-0836-4b31-e9b6-6f33269879dc"
      },
      "source": [
        "x = Trainer(\"Deepanshu\",\"Pasrija\")\n",
        "x.printname()"
      ],
      "execution_count": 23,
      "outputs": [
        {
          "output_type": "stream",
          "text": [
            "Deepanshu Pasrija\n"
          ],
          "name": "stdout"
        }
      ]
    },
    {
      "cell_type": "code",
      "metadata": {
        "id": "lXe7v1q-9ykD"
      },
      "source": [
        "class Student(Person):\n",
        "  pass"
      ],
      "execution_count": 24,
      "outputs": []
    },
    {
      "cell_type": "code",
      "metadata": {
        "colab": {
          "base_uri": "https://localhost:8080/"
        },
        "id": "Uk0raUD8918Z",
        "outputId": "0f3195e7-c8f1-4aa3-e4e5-0676551cefc0"
      },
      "source": [
        "x = Student(\"Sunil\",\"Chaurha\")\n",
        "x.printname()"
      ],
      "execution_count": 26,
      "outputs": [
        {
          "output_type": "stream",
          "text": [
            "Sunil Chaurha\n"
          ],
          "name": "stdout"
        }
      ]
    },
    {
      "cell_type": "code",
      "metadata": {
        "id": "KLEgRMjVBb9d"
      },
      "source": [
        "class Person:\n",
        "  def __init__(self,fname,lname):\n",
        "    self.firstname=fname\n",
        "    self.lastname=lname\n",
        "  \n",
        "  def printname(self):\n",
        "    print(self.firstname,self.firstname)\n",
        "\n",
        "class Student(Person):\n",
        "  def __init__(self,fname,lname):\n",
        "    self.fname = fname\n",
        "    self.lname = lname"
      ],
      "execution_count": 27,
      "outputs": []
    },
    {
      "cell_type": "code",
      "metadata": {
        "colab": {
          "base_uri": "https://localhost:8080/",
          "height": 299
        },
        "id": "BO7wG-RABfSb",
        "outputId": "7c0cf8bb-664b-4e37-bf59-94bcbcb24fb1"
      },
      "source": [
        "x = Student(\"Mike\",\"Tyson\")\n",
        "x.printname()"
      ],
      "execution_count": 28,
      "outputs": [
        {
          "output_type": "error",
          "ename": "AttributeError",
          "evalue": "ignored",
          "traceback": [
            "\u001b[0;31m---------------------------------------------------------------------------\u001b[0m",
            "\u001b[0;31mAttributeError\u001b[0m                            Traceback (most recent call last)",
            "\u001b[0;32m<ipython-input-28-40a43991aa80>\u001b[0m in \u001b[0;36m<module>\u001b[0;34m()\u001b[0m\n\u001b[1;32m      1\u001b[0m \u001b[0mx\u001b[0m \u001b[0;34m=\u001b[0m \u001b[0mStudent\u001b[0m\u001b[0;34m(\u001b[0m\u001b[0;34m\"Mike\"\u001b[0m\u001b[0;34m,\u001b[0m\u001b[0;34m\"Tyson\"\u001b[0m\u001b[0;34m)\u001b[0m\u001b[0;34m\u001b[0m\u001b[0;34m\u001b[0m\u001b[0m\n\u001b[0;32m----> 2\u001b[0;31m \u001b[0mx\u001b[0m\u001b[0;34m.\u001b[0m\u001b[0mprintname\u001b[0m\u001b[0;34m(\u001b[0m\u001b[0;34m)\u001b[0m\u001b[0;34m\u001b[0m\u001b[0;34m\u001b[0m\u001b[0m\n\u001b[0m",
            "\u001b[0;32m<ipython-input-27-866d44c9125f>\u001b[0m in \u001b[0;36mprintname\u001b[0;34m(self)\u001b[0m\n\u001b[1;32m      5\u001b[0m \u001b[0;34m\u001b[0m\u001b[0m\n\u001b[1;32m      6\u001b[0m   \u001b[0;32mdef\u001b[0m \u001b[0mprintname\u001b[0m\u001b[0;34m(\u001b[0m\u001b[0mself\u001b[0m\u001b[0;34m)\u001b[0m\u001b[0;34m:\u001b[0m\u001b[0;34m\u001b[0m\u001b[0;34m\u001b[0m\u001b[0m\n\u001b[0;32m----> 7\u001b[0;31m     \u001b[0mprint\u001b[0m\u001b[0;34m(\u001b[0m\u001b[0mself\u001b[0m\u001b[0;34m.\u001b[0m\u001b[0mfirstname\u001b[0m\u001b[0;34m,\u001b[0m\u001b[0mself\u001b[0m\u001b[0;34m.\u001b[0m\u001b[0mfirstname\u001b[0m\u001b[0;34m)\u001b[0m\u001b[0;34m\u001b[0m\u001b[0;34m\u001b[0m\u001b[0m\n\u001b[0m\u001b[1;32m      8\u001b[0m \u001b[0;34m\u001b[0m\u001b[0m\n\u001b[1;32m      9\u001b[0m \u001b[0;32mclass\u001b[0m \u001b[0mStudent\u001b[0m\u001b[0;34m(\u001b[0m\u001b[0mPerson\u001b[0m\u001b[0;34m)\u001b[0m\u001b[0;34m:\u001b[0m\u001b[0;34m\u001b[0m\u001b[0;34m\u001b[0m\u001b[0m\n",
            "\u001b[0;31mAttributeError\u001b[0m: 'Student' object has no attribute 'firstname'"
          ]
        }
      ]
    },
    {
      "cell_type": "code",
      "metadata": {
        "id": "5nEO18OuBts8"
      },
      "source": [
        "class Person:\n",
        "  def __init__(self,fname,lname):\n",
        "    self.firstname=fname\n",
        "    self.lastname=lname\n",
        "  \n",
        "  def printname(self):\n",
        "    print(self.firstname,self.lastname)\n",
        "\n",
        "class Student(Person):\n",
        "  def __init__(self,fname,lname):\n",
        "    Person.__init__(self,fname,lname)"
      ],
      "execution_count": 29,
      "outputs": []
    },
    {
      "cell_type": "code",
      "metadata": {
        "colab": {
          "base_uri": "https://localhost:8080/"
        },
        "id": "2el1IxZ9BwMb",
        "outputId": "6044b20f-40b3-45f6-9951-69d91e5dc2b3"
      },
      "source": [
        "x = Student(\"Mike\",\"Tyson\")\n",
        "x.printname()"
      ],
      "execution_count": 30,
      "outputs": [
        {
          "output_type": "stream",
          "text": [
            "Mike Tyson\n"
          ],
          "name": "stdout"
        }
      ]
    }
  ]
}