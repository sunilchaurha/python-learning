{
  "nbformat": 4,
  "nbformat_minor": 0,
  "metadata": {
    "colab": {
      "name": "Classes.ipynb",
      "provenance": [],
      "authorship_tag": "ABX9TyO1qWg5sf7PENJba3Is/2CL",
      "include_colab_link": true
    },
    "kernelspec": {
      "name": "python3",
      "display_name": "Python 3"
    },
    "language_info": {
      "name": "python"
    }
  },
  "cells": [
    {
      "cell_type": "markdown",
      "metadata": {
        "id": "view-in-github",
        "colab_type": "text"
      },
      "source": [
        "<a href=\"https://colab.research.google.com/github/sunilchaurha/python-learning/blob/main/Classes.ipynb\" target=\"_parent\"><img src=\"https://colab.research.google.com/assets/colab-badge.svg\" alt=\"Open In Colab\"/></a>"
      ]
    },
    {
      "cell_type": "code",
      "metadata": {
        "id": "cxxC9jwlx5Sc"
      },
      "source": [
        "class Training:\n",
        "  def __init__(self, name, level):\n",
        "    self.name = name\n",
        "    self.level = level\n",
        "\n",
        "  def printname(self):\n",
        "    print(\"Training name \"+ self.name)  \n",
        "    print(\"Training level \"+ str(self.level))  \n"
      ],
      "execution_count": 17,
      "outputs": []
    },
    {
      "cell_type": "code",
      "metadata": {
        "colab": {
          "base_uri": "https://localhost:8080/"
        },
        "id": "WTeZkHbu04K4",
        "outputId": "e97fa7e3-fefb-4c81-966a-b7924f013ca4"
      },
      "source": [
        "p1 = Training('Python training',11)\n",
        "p1.printname()"
      ],
      "execution_count": 18,
      "outputs": [
        {
          "output_type": "stream",
          "text": [
            "Training name Python training\n",
            "Training level 11\n"
          ],
          "name": "stdout"
        }
      ]
    },
    {
      "cell_type": "code",
      "metadata": {
        "id": "Cn8jyYa71njG"
      },
      "source": [
        "del p1.level\n",
        "del p1\n"
      ],
      "execution_count": 7,
      "outputs": []
    },
    {
      "cell_type": "code",
      "metadata": {
        "id": "C3wkXtoq1t3U"
      },
      "source": [
        "class Person:\n",
        "  def __init__(self,fname,lname):\n",
        "    self.fname=fname\n",
        "    self.lname=lname\n",
        "  \n",
        "  def printname(self):\n",
        "    print(self.fname,self.lname)"
      ],
      "execution_count": 22,
      "outputs": []
    },
    {
      "cell_type": "code",
      "metadata": {
        "id": "vDhNKwD250ur"
      },
      "source": [
        "  class Trainer:\n",
        "    def __init__(self,fname,lname):\n",
        "      self.fname= fname\n",
        "      self.lname= lname\n",
        "\n",
        "    def printname(self):\n",
        "      print(self.fname , self.lname)"
      ],
      "execution_count": 13,
      "outputs": []
    },
    {
      "cell_type": "code",
      "metadata": {
        "colab": {
          "base_uri": "https://localhost:8080/"
        },
        "id": "iUcKYP6U6JmJ",
        "outputId": "7613dc11-0836-4b31-e9b6-6f33269879dc"
      },
      "source": [
        "x = Trainer(\"Deepanshu\",\"Pasrija\")\n",
        "x.printname()"
      ],
      "execution_count": 23,
      "outputs": [
        {
          "output_type": "stream",
          "text": [
            "Deepanshu Pasrija\n"
          ],
          "name": "stdout"
        }
      ]
    },
    {
      "cell_type": "code",
      "metadata": {
        "id": "lXe7v1q-9ykD"
      },
      "source": [
        "class Student(Person):\n",
        "  pass"
      ],
      "execution_count": 24,
      "outputs": []
    },
    {
      "cell_type": "code",
      "metadata": {
        "colab": {
          "base_uri": "https://localhost:8080/"
        },
        "id": "Uk0raUD8918Z",
        "outputId": "0f3195e7-c8f1-4aa3-e4e5-0676551cefc0"
      },
      "source": [
        "x = Student(\"Sunil\",\"Chaurha\")\n",
        "x.printname()"
      ],
      "execution_count": 26,
      "outputs": [
        {
          "output_type": "stream",
          "text": [
            "Sunil Chaurha\n"
          ],
          "name": "stdout"
        }
      ]
    }
  ]
}