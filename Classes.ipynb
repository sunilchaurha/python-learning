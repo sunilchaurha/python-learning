{
  "nbformat": 4,
  "nbformat_minor": 0,
  "metadata": {
    "colab": {
      "name": "Classes.ipynb",
      "provenance": [],
      "authorship_tag": "ABX9TyP9yIhPRJQ7heeHbvQOawtH",
      "include_colab_link": true
    },
    "kernelspec": {
      "name": "python3",
      "display_name": "Python 3"
    },
    "language_info": {
      "name": "python"
    }
  },
  "cells": [
    {
      "cell_type": "markdown",
      "metadata": {
        "id": "view-in-github",
        "colab_type": "text"
      },
      "source": [
        "<a href=\"https://colab.research.google.com/github/sunilchaurha/python-learning/blob/main/Classes.ipynb\" target=\"_parent\"><img src=\"https://colab.research.google.com/assets/colab-badge.svg\" alt=\"Open In Colab\"/></a>"
      ]
    },
    {
      "cell_type": "code",
      "metadata": {
        "id": "cxxC9jwlx5Sc"
      },
      "source": [
        "class Training:\n",
        "  def __init__(self, name, level):\n",
        "    self.name = name\n",
        "    self.level = level\n",
        "\n",
        "  def printp(self):\n",
        "    print(\"Training name \"+ self.name)  \n",
        "    print(\"Training level \"+ str(self.level))  \n"
      ],
      "execution_count": 4,
      "outputs": []
    },
    {
      "cell_type": "code",
      "metadata": {
        "colab": {
          "base_uri": "https://localhost:8080/"
        },
        "id": "WTeZkHbu04K4",
        "outputId": "7e8c5400-cc3f-432e-e906-720d23380323"
      },
      "source": [
        "p1 = Training('Python training',11)\n",
        "p1.printp()"
      ],
      "execution_count": 6,
      "outputs": [
        {
          "output_type": "stream",
          "text": [
            "Training name Python training\n",
            "Training level 11\n"
          ],
          "name": "stdout"
        }
      ]
    },
    {
      "cell_type": "code",
      "metadata": {
        "id": "Cn8jyYa71njG"
      },
      "source": [
        "del p1.level\n",
        "del p1\n"
      ],
      "execution_count": 7,
      "outputs": []
    },
    {
      "cell_type": "code",
      "metadata": {
        "id": "C3wkXtoq1t3U"
      },
      "source": [
        "class Person:\n",
        "  pass"
      ],
      "execution_count": 9,
      "outputs": []
    }
  ]
}